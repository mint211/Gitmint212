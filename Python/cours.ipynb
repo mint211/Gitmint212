{
 "cells": [
  {
   "cell_type": "code",
   "execution_count": 6,
   "source": [
    "name = input(\"What is your name ? \")\n",
    "birth_year = input(\"Enter your birth year : \")\n",
    "print(name)\n",
    "print(birth_year)\n",
    "\n",
    "if name != \"frank\":\n",
    "    print(\"bonjour \" + name)\n",
    "else:\n",
    "    age = 2023 - int(birth_year)\n",
    "    print(age)\n",
    ""
   ],
   "outputs": [
    {
     "output_type": "stream",
     "name": "stdout",
     "text": [
      "frank\n",
      "1966\n",
      "57\n"
     ]
    }
   ],
   "metadata": {}
  },
  {
   "cell_type": "code",
   "execution_count": 7,
   "source": [
    "name = input(\"What is your name ? \")\n",
    "firstname = input(\"What is your firstname ? \")\n",
    "birth_year = input(\"Enter your birth year : \")\n",
    "\n",
    "print(name + firstname)\n",
    "print(birth_year)\n",
    "\n",
    "if name != \"frank\":\n",
    "    print(\"bonjour \" + name)\n",
    "else:\n",
    "    age = 2023 - int(birth_year)\n",
    "    print(age)\n",
    ""
   ],
   "outputs": [
    {
     "output_type": "stream",
     "name": "stdout",
     "text": [
      "avesquefrank\n",
      "1966\n",
      "bonjour avesque\n"
     ]
    }
   ],
   "metadata": {}
  },
  {
   "cell_type": "code",
   "execution_count": 8,
   "source": [
    "name = input(\"What is your name ? \")\n",
    "firstname = input(\"What is your firstname ? \")\n",
    "birth_year = input(\"Enter your birth year : \")\n",
    "\n",
    "print(name \"\"+ firstname)\n",
    "print(birth_year)\n",
    "\n",
    "if name != \"frank\":\n",
    "    print(\"bonjour \" + name)\n",
    "else:\n",
    "    age = 2023 - int(birth_year)\n",
    "    print(age)\n",
    ""
   ],
   "outputs": [
    {
     "output_type": "error",
     "ename": "SyntaxError",
     "evalue": "invalid syntax (<ipython-input-8-fc4a71d3a9ba>, line 5)",
     "traceback": [
      "\u001b[0;36m  Cell \u001b[0;32mIn[8], line 5\u001b[0;36m\u001b[0m\n\u001b[0;31m    print(name \"\"+ firstname)\u001b[0m\n\u001b[0m               ^\u001b[0m\n\u001b[0;31mSyntaxError\u001b[0m\u001b[0;31m:\u001b[0m invalid syntax\n"
     ]
    }
   ],
   "metadata": {}
  },
  {
   "cell_type": "code",
   "execution_count": 9,
   "source": [
    "name = input(\"What is your name ? \")\n",
    "birth_year = input(\"Enter your birth year : \")\n",
    "\n",
    "print(name)\n",
    "print(birth_year)\n",
    "\n",
    "if name != \"frank\":\n",
    "    print(\"bonjour \" + name)\n",
    "    \n",
    "else:\n",
    "    age = 2023 - int(birth_year)\n",
    "    print(age)\n",
    ""
   ],
   "outputs": [
    {
     "output_type": "stream",
     "name": "stdout",
     "text": [
      "frank\n",
      "1966\n",
      "57\n"
     ]
    }
   ],
   "metadata": {}
  }
 ],
 "nbformat": 4,
 "nbformat_minor": 2,
 "metadata": {
  "language_info": {
   "codemirror_mode": {
    "name": "ipython",
    "version": 3
   },
   "file_extension": ".py",
   "mimetype": "text/x-python",
   "name": "python",
   "nbconvert_exporter": "python",
   "pygments_lexer": "ipython3",
   "version": 3
  },
  "orig_nbformat": 4
 }
}